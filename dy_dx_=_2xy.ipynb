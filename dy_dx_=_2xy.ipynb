{
  "cells": [
    {
      "cell_type": "markdown",
      "metadata": {
        "id": "view-in-github",
        "colab_type": "text"
      },
      "source": [
        "<a href=\"https://colab.research.google.com/github/wzummo/Neural-Network-Approximation-of-dydx-2xy/blob/main/dy_dx_%3D_2xy.ipynb\" target=\"_parent\"><img src=\"https://colab.research.google.com/assets/colab-badge.svg\" alt=\"Open In Colab\"/></a>"
      ]
    },
    {
      "cell_type": "markdown",
      "metadata": {
        "id": "kRuv_ST-0Vml"
      },
      "source": [
        "# dy/dx = -2xy\n",
        "* Consider the ODE <br>\n",
        "$dy/dx = -2xy$ <br> \n",
        "* with analytical solution <br>\n",
        "$y(x)=e^{-x^2}$\n",
        "* and initial condition <br>\n",
        "$y(0)=1$ <br>\n",
        "\n",
        "following matlab example https://www.mathworks.com/help/deeplearning/ug/solve-odes-using-a-neural-network.html"
      ]
    },
    {
      "cell_type": "code",
      "execution_count": null,
      "metadata": {
        "id": "tpvcLC8uttq5"
      },
      "outputs": [],
      "source": [
        "import numpy as np\n",
        "import matplotlib.pyplot as plt\n",
        "import tensorflow as tf"
      ]
    },
    {
      "cell_type": "code",
      "execution_count": null,
      "metadata": {
        "id": "-y7bRmz9wFub"
      },
      "outputs": [],
      "source": [
        "def MSE(y_pred, y_true=None):\n",
        "    '''mean square error of y_pred - y_true if y_true is given, else mean sqaure error of y_pred'''\n",
        "    if y_true is None:\n",
        "        return tf.reduce_mean(y_pred ** 2)\n",
        "    else:\n",
        "        return tf.reduce_mean((y_pred - y_true) ** 2)"
      ]
    },
    {
      "cell_type": "code",
      "execution_count": null,
      "metadata": {
        "id": "6bwKF3O0t1RX"
      },
      "outputs": [],
      "source": [
        "# take n number of samples\n",
        "n_samples = 10000\n",
        "\n",
        "# sample x from 0 to 2\n",
        "x = np.linspace(0,2,n_samples).reshape(n_samples,1)\n",
        "\n",
        "# initial condition of x is when x=0\n",
        "x0 = np.zeros(n_samples).reshape(n_samples,1)\n",
        "\n",
        "# initial conditoin of y(0)=1\n",
        "y0 = np.ones(n_samples).reshape(n_samples,1)\n",
        "\n",
        "# move these numpy arrays to tensors\n",
        "x_tensor = tf.convert_to_tensor(x, dtype=tf.float32)\n",
        "x0_tensor = tf.convert_to_tensor(x0, dtype=tf.float32)\n",
        "y0_tensor = tf.convert_to_tensor(y0, dtype=tf.float32)\n",
        "\n",
        "\n",
        "train_dataset = tf.data.Dataset.from_tensor_slices((x_tensor, x0_tensor, y0_tensor))\n",
        "\n",
        "batch_size = 10\n",
        "train_dataset_shuffled = train_dataset.shuffle(n_samples).batch(batch_size)"
      ]
    },
    {
      "cell_type": "code",
      "execution_count": null,
      "metadata": {
        "id": "ic3G-rBKygpN"
      },
      "outputs": [],
      "source": [
        "# define loss function \n",
        "def loss_ode(model, x_tensor, x0_tensor, y0_tensor):\n",
        "  x_copy = tf.identity(x_tensor)                       # make copy of x for gradients\n",
        "  with tf.GradientTape() as t:\n",
        "    t.watch(x_copy)                                    # watch x variable for auto diff\n",
        "    y_pred = model(x_copy)                             # make model prediction for y\n",
        "  dy_dx = t.gradient(y_pred,x_copy)                    # take derivative dy/dx\n",
        "  res = dy_dx + 2*y_pred*x_copy                        # define resisual from the ode \n",
        "  res_loss = sum([MSE(res_i) for res_i in res])        # calculate MSE loss for residual\n",
        "\n",
        "  ic_loss = sum([MSE(model(x0_tensor),y0_tensor)])     # calculate initial condition loss comparing the model\n",
        "                                                       # evaluated at 0 to the expected result of 1\n",
        "\n",
        "  ic_coeff = 7                                         # initial condition coefficient taken from matlab example\n",
        "  \n",
        "  loss_full = res_loss + ic_coeff*ic_loss              # calcuate total loss\n",
        "\n",
        "  return loss_full, res_loss, ic_loss                  # return all the lossses"
      ]
    },
    {
      "cell_type": "code",
      "execution_count": null,
      "metadata": {
        "colab": {
          "base_uri": "https://localhost:8080/"
        },
        "outputId": "a8b5bb37-6187-43ae-ab21-35d9fe53ddb3",
        "id": "hGw8BkOmLbmN"
      },
      "outputs": [
        {
          "output_type": "stream",
          "name": "stdout",
          "text": [
            "epoch: 1, loss: 0.09276153147220612, res_loss: 0.053098127245903015, ic_loss:0.005666200537234545\n",
            "epoch: 2, loss: 0.06478027254343033, res_loss: 0.03479980677366257, ic_loss:0.004282923880964518\n",
            "epoch: 3, loss: 0.041760168969631195, res_loss: 0.026627659797668457, ic_loss:0.0021617868915200233\n",
            "epoch: 4, loss: 0.007348321378231049, res_loss: 0.002647590357810259, ic_loss:0.0006715329946018755\n",
            "epoch: 5, loss: 0.0058459388092160225, res_loss: 0.0038190879859030247, ic_loss:0.0002895501093007624\n",
            "epoch: 6, loss: 0.002284994814544916, res_loss: 0.0010494712041690946, ic_loss:0.00017650339577812701\n",
            "epoch: 7, loss: 0.0020845618564635515, res_loss: 0.0013272427022457123, ic_loss:0.00010818846203619614\n",
            "epoch: 8, loss: 0.0014141842257231474, res_loss: 0.0008827178971841931, ic_loss:7.592375186504796e-05\n",
            "epoch: 9, loss: 0.0012747355503961444, res_loss: 0.0008873689221218228, ic_loss:5.533808871405199e-05\n",
            "epoch: 10, loss: 0.000627836212515831, res_loss: 0.00038357783341780305, ic_loss:3.4894048440037295e-05\n",
            "epoch: 11, loss: 0.00035903131356462836, res_loss: 0.0001606960140634328, ic_loss:2.833361577359028e-05\n",
            "epoch: 12, loss: 0.00018962554167956114, res_loss: 4.328583599999547e-05, ic_loss:2.090567249979358e-05\n",
            "epoch: 13, loss: 0.00028350253705866635, res_loss: 0.0001690015778876841, ic_loss:1.635728040128015e-05\n",
            "epoch: 14, loss: 0.000317654776154086, res_loss: 0.00022148700372781605, ic_loss:1.3738252164330333e-05\n",
            "epoch: 15, loss: 0.0006033660611137748, res_loss: 0.0005250757676549256, ic_loss:1.1184325558133423e-05\n"
          ]
        }
      ],
      "source": [
        "# define model -> input x and predict y with one hidden layer\n",
        "\n",
        "# accept 1 input \n",
        "inputs = tf.keras.Input((1,))\n",
        "\n",
        "# two hidden layer with 10 neurons, activation function of sigmoid \n",
        "L1 = tf.keras.layers.Dense(10, activation='sigmoid', use_bias=True)(inputs)\n",
        "\n",
        "# output layer predicts y with activation function of sigmoid to constrain output between 0 and 1\n",
        "outputs = tf.keras.layers.Dense(1, activation='sigmoid', use_bias=True)(L1)\n",
        "\n",
        "# build model\n",
        "model = tf.keras.Model(inputs=inputs, outputs=outputs)\n",
        "\n",
        "optimizer = tf.keras.optimizers.Adam(learning_rate=0.01)\n",
        "num_epochs = 15\n",
        "\n",
        "# lists to store loss\n",
        "best_loss = np.inf # initial loss is inf\n",
        "training_loss = []\n",
        "ode_loss = []\n",
        "ic_loss_list = []\n",
        "\n",
        "for epoch in range(num_epochs):\n",
        "\n",
        "  for x_batch, x0_batch, y0_batch in train_dataset_shuffled:\n",
        "    with tf.GradientTape() as t1:\n",
        "      # calculate losses\n",
        "      loss_full, res_loss, ic_loss = loss_ode(model, x_batch, x0_batch, y0_batch) \n",
        "      # store losses \n",
        "      training_loss.append(loss_full.numpy()), ode_loss.append(res_loss.numpy()), ic_loss_list.append(ic_loss.numpy())\n",
        "    # update model parameters based off losses\n",
        "    optimizer.minimize(loss_full, [model.trainable_variables], tape=t1)\n",
        "\n",
        "  # if our loss improves save these weights \n",
        "  if loss_full.numpy() < best_loss:\n",
        "    best_loss = loss_full.numpy()\n",
        "    model.save_weights('best_model')\n",
        "  \n",
        "  # print out epoch and losses\n",
        "  print(f'epoch: {epoch+1}, loss: {loss_full.numpy()}, res_loss: {res_loss.numpy()}, ic_loss:{ic_loss.numpy()}') "
      ]
    },
    {
      "cell_type": "code",
      "source": [
        "fig = plt.figure(figsize=(8,4))\n",
        "plt.plot(training_loss) \n",
        "plt.title('Training Loss');"
      ],
      "metadata": {
        "id": "zD7EV-EWp950",
        "colab": {
          "base_uri": "https://localhost:8080/",
          "height": 281
        },
        "outputId": "3fbd5200-6652-4a40-948a-35e27e139176"
      },
      "execution_count": null,
      "outputs": [
        {
          "output_type": "display_data",
          "data": {
            "text/plain": [
              "<Figure size 576x288 with 1 Axes>"
            ],
            "image/png": "[encoded data removed]"
          },
          "metadata": {
            "needs_background": "light"
          }
        }
      ]
    },
    {
      "cell_type": "code",
      "execution_count": null,
      "metadata": {
        "id": "z4jqqkS5zxOW",
        "colab": {
          "base_uri": "https://localhost:8080/",
          "height": 295
        },
        "outputId": "696cc4a0-7829-4df9-dd8a-9594d82d74f9"
      },
      "outputs": [
        {
          "output_type": "display_data",
          "data": {
            "text/plain": [
              "<Figure size 1152x288 with 1 Axes>"
            ],
            "image/png": "[encoded data removed]"
          },
          "metadata": {
            "needs_background": "light"
          }
        }
      ],
      "source": [
        "# test the model \n",
        "\n",
        "# Create x test \n",
        "x_test = np.linspace(0,2,100).reshape(100,1)\n",
        "x_test_tensor = tf.convert_to_tensor(x_test)\n",
        "\n",
        "# load the best weights from training\n",
        "model.load_weights('best_model')\n",
        "\n",
        "# get model predictions \n",
        "y_pred = model(x_test_tensor)\n",
        "\n",
        "# analytical solution\n",
        "y_analytical = np.exp(-x_test**2)\n",
        "\n",
        "# plot \n",
        "fig = plt.figure(figsize=(16,4))\n",
        "plt.plot(x_test, y_analytical, label='true solution')\n",
        "plt.plot(x_test, y_pred, label='predictions')\n",
        "plt.title('Prediction from model compared with analytical solution')\n",
        "plt.xlabel('x')\n",
        "plt.ylabel('y')\n",
        "plt.legend();"
      ]
    }
  ],
  "metadata": {
    "colab": {
      "name": "dy/dx = -2xy",
      "provenance": [],
      "authorship_tag": "ABX9TyNOqJzMdh2rF1aA5gl1V2LT",
      "include_colab_link": true
    },
    "kernelspec": {
      "display_name": "Python 3",
      "name": "python3"
    },
    "language_info": {
      "name": "python"
    },
    "accelerator": "GPU",
    "gpuClass": "standard"
  },
  "nbformat": 4,
  "nbformat_minor": 0
}