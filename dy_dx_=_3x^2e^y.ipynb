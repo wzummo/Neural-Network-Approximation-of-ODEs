{
  "cells": [
    {
      "cell_type": "markdown",
      "metadata": {
        "id": "view-in-github",
        "colab_type": "text"
      },
      "source": [
        "<a href=\"https://colab.research.google.com/github/wzummo/Neural-Network-Approximation-of-ODEs/blob/main/dy_dx_%3D_3x%5E2e%5Ey.ipynb\" target=\"_parent\"><img src=\"https://colab.research.google.com/assets/colab-badge.svg\" alt=\"Open In Colab\"/></a>"
      ]
    },
    {
      "cell_type": "markdown",
      "metadata": {
        "id": "h2wucTvceVho"
      },
      "source": [
        "# dy/dx = $-3x^2e^y$\n",
        "* Consider the ODE <br>\n",
        "$dy/dx = -3x^2e^y$ <br> \n",
        "* with analytical solution <br>\n",
        "$y(x)=-log(x^3+1)$\n",
        "* and initial condition <br>\n",
        "$y(0)=0$ <br>\n"
      ]
    },
    {
      "cell_type": "code",
      "execution_count": null,
      "metadata": {
        "id": "iO2mcayEeVhp"
      },
      "outputs": [],
      "source": [
        "import numpy as np\n",
        "import matplotlib.pyplot as plt\n",
        "import tensorflow as tf"
      ]
    },
    {
      "cell_type": "code",
      "execution_count": null,
      "metadata": {
        "id": "_FLAXCZ-eVhp"
      },
      "outputs": [],
      "source": [
        "def MSE(y_pred, y_true=None):\n",
        "    '''mean square error of y_pred - y_true if y_true is given, else mean sqaure error of y_pred'''\n",
        "    if y_true is None:\n",
        "        return tf.reduce_mean(y_pred ** 2)\n",
        "    else:\n",
        "        return tf.reduce_mean((y_pred - y_true) ** 2)"
      ]
    },
    {
      "cell_type": "code",
      "execution_count": null,
      "metadata": {
        "id": "yynaywjjeVhq"
      },
      "outputs": [],
      "source": [
        "# take n number of samples\n",
        "n_samples = 10000\n",
        "\n",
        "# sample x from 0 to 2\n",
        "x = np.linspace(0,2,n_samples).reshape(n_samples,1)\n",
        "\n",
        "# initial condition of x is when x=0\n",
        "x0 = np.zeros(n_samples).reshape(n_samples,1)\n",
        "\n",
        "# initial conditoin of y(0)=1\n",
        "y0 = np.zeros(n_samples).reshape(n_samples,1)\n",
        "\n",
        "# move these numpy arrays to tensors\n",
        "x_tensor = tf.convert_to_tensor(x, dtype=tf.float32)\n",
        "x0_tensor = tf.convert_to_tensor(x0, dtype=tf.float32)\n",
        "y0_tensor = tf.convert_to_tensor(y0, dtype=tf.float32)\n",
        "\n",
        "\n",
        "train_dataset = tf.data.Dataset.from_tensor_slices((x_tensor, x0_tensor, y0_tensor))\n",
        "\n",
        "batch_size = 10\n",
        "train_dataset_shuffled = train_dataset.shuffle(n_samples).batch(batch_size)"
      ]
    },
    {
      "cell_type": "code",
      "execution_count": null,
      "metadata": {
        "id": "g7fqlOgMeVhq"
      },
      "outputs": [],
      "source": [
        "# define loss function \n",
        "def loss_ode(model, x_tensor, x0_tensor, y0_tensor):\n",
        "  x_copy = tf.identity(x_tensor)                       # make copy of x for gradients\n",
        "  with tf.GradientTape() as t:\n",
        "    t.watch(x_copy)                                    # watch x variable for auto diff\n",
        "    y_pred = model(x_copy)                             # make model prediction for y\n",
        "  dy_dx = t.gradient(y_pred,x_copy)                    # take derivative dy/dx\n",
        "  res = dy_dx + 3*(x_copy**2)*np.exp(y_pred)           # define resisual from the ode \n",
        "  res_loss = sum([MSE(res_i) for res_i in res])        # calculate MSE loss for residual\n",
        "\n",
        "  ic_loss = sum([MSE(model(x0_tensor),y0_tensor)])     # calculate initial condition loss comparing the model\n",
        "                                                       # evaluated at 0 to the expected result of 1\n",
        "\n",
        "  ic_coeff = 7                                         # initial condition coefficient taken from matlab example\n",
        "  \n",
        "  loss_full = res_loss + ic_coeff*ic_loss              # calcuate total loss\n",
        "\n",
        "  return loss_full, res_loss, ic_loss                  # return all the lossses"
      ]
    },
    {
      "cell_type": "code",
      "execution_count": null,
      "metadata": {
        "colab": {
          "base_uri": "https://localhost:8080/"
        },
        "outputId": "ac16b946-3ccb-4154-ad7f-064bbed052b3",
        "id": "IyAR-hvPeVhr"
      },
      "outputs": [
        {
          "output_type": "stream",
          "name": "stdout",
          "text": [
            "epoch: 1, loss: 0.023874612525105476, res_loss: 0.023371633142232895, ic_loss:7.185426511568949e-05\n",
            "epoch: 2, loss: 0.010793947614729404, res_loss: 0.010264432057738304, ic_loss:7.564512634417042e-05\n",
            "epoch: 3, loss: 0.10462841391563416, res_loss: 0.08029285818338394, ic_loss:0.0034765079617500305\n",
            "epoch: 4, loss: 0.03529705852270126, res_loss: 0.01476338692009449, ic_loss:0.0029333813581615686\n",
            "epoch: 5, loss: 0.22453981637954712, res_loss: 0.14987267553806305, ic_loss:0.010666733607649803\n",
            "epoch: 6, loss: 0.06504936516284943, res_loss: 0.020513970404863358, ic_loss:0.006362198852002621\n",
            "epoch: 7, loss: 0.7974256277084351, res_loss: 0.7935967445373535, ic_loss:0.0005469873431138694\n",
            "epoch: 8, loss: 0.23351481556892395, res_loss: 0.21997080743312836, ic_loss:0.0019348592031747103\n",
            "epoch: 9, loss: 0.2055809199810028, res_loss: 0.20395489037036896, ic_loss:0.00023228889040183276\n",
            "epoch: 10, loss: 0.08722811192274094, res_loss: 0.08600752800703049, ic_loss:0.00017436944472137839\n",
            "epoch: 11, loss: 0.1663624495267868, res_loss: 0.13825896382331848, ic_loss:0.004014783073216677\n",
            "epoch: 12, loss: 0.05959497019648552, res_loss: 0.04616442322731018, ic_loss:0.0019186496501788497\n",
            "epoch: 13, loss: 0.1861265003681183, res_loss: 0.18036560714244843, ic_loss:0.0008229849627241492\n",
            "epoch: 14, loss: 0.22094544768333435, res_loss: 0.20223484933376312, ic_loss:0.002672941889613867\n",
            "epoch: 15, loss: 0.053310249000787735, res_loss: 0.01125419232994318, ic_loss:0.006008008029311895\n"
          ]
        }
      ],
      "source": [
        "# define model -> input x and predict y with one hidden layer\n",
        "\n",
        "# accept 1 input \n",
        "inputs = tf.keras.Input((1,))\n",
        "\n",
        "# two hidden layer with 10 neurons, activation function of sigmoid \n",
        "L1 = tf.keras.layers.Dense(10, activation='sigmoid', use_bias=True)(inputs)\n",
        "\n",
        "# output layer predicts y\n",
        "outputs = tf.keras.layers.Dense(1, use_bias=True)(L1)\n",
        "\n",
        "# build model\n",
        "model = tf.keras.Model(inputs=inputs, outputs=outputs)\n",
        "\n",
        "optimizer = tf.keras.optimizers.Adam(learning_rate=0.01)\n",
        "num_epochs = 15\n",
        "\n",
        "# lists to store loss\n",
        "best_loss = np.inf # initial loss is inf\n",
        "training_loss = []\n",
        "ode_loss = []\n",
        "ic_loss_list = []\n",
        "\n",
        "for epoch in range(num_epochs):\n",
        "\n",
        "  for x_batch, x0_batch, y0_batch in train_dataset_shuffled:\n",
        "    with tf.GradientTape() as t1:\n",
        "      # calculate losses\n",
        "      loss_full, res_loss, ic_loss = loss_ode(model, x_batch, x0_batch, y0_batch) \n",
        "      # store losses \n",
        "      training_loss.append(loss_full.numpy()), ode_loss.append(res_loss.numpy()), ic_loss_list.append(ic_loss.numpy())\n",
        "    # update model parameters based off losses\n",
        "    optimizer.minimize(loss_full, [model.trainable_variables], tape=t1)\n",
        "\n",
        "  # if our loss improves save these weights \n",
        "  if loss_full.numpy() < best_loss:\n",
        "    best_loss = loss_full.numpy()\n",
        "    model.save_weights('best_model')\n",
        "  \n",
        "  # print out epoch and losses\n",
        "  print(f'epoch: {epoch+1}, loss: {loss_full.numpy()}, res_loss: {res_loss.numpy()}, ic_loss:{ic_loss.numpy()}') "
      ]
    },
    {
      "cell_type": "code",
      "source": [
        "fig = plt.figure(figsize=(8,4))\n",
        "plt.plot(training_loss) \n",
        "plt.title('Training Loss');"
      ],
      "metadata": {
        "colab": {
          "base_uri": "https://localhost:8080/",
          "height": 281
        },
        "outputId": "92891eda-0628-4077-84dc-7125fa720179",
        "id": "WUUsbIpGeVhs"
      },
      "execution_count": null,
      "outputs": [
        {
          "output_type": "display_data",
          "data": {
            "text/plain": [
              "<Figure size 576x288 with 1 Axes>"
            ],
            "image/png": "[encoded data removed]"
          },
          "metadata": {
            "needs_background": "light"
          }
        }
      ]
    },
    {
      "cell_type": "code",
      "execution_count": null,
      "metadata": {
        "colab": {
          "base_uri": "https://localhost:8080/",
          "height": 295
        },
        "outputId": "ce91d1ff-5034-49c5-91ef-4abd277a2f7f",
        "id": "IN_Ii0lEeVhs"
      },
      "outputs": [
        {
          "output_type": "display_data",
          "data": {
            "text/plain": [
              "<Figure size 1152x288 with 1 Axes>"
            ],
            "image/png": "[encoded data removed]"
          },
          "metadata": {
            "needs_background": "light"
          }
        }
      ],
      "source": [
        "# test the model \n",
        "\n",
        "# Create x test \n",
        "x_test = np.linspace(0,2,100).reshape(100,1)\n",
        "x_test_tensor = tf.convert_to_tensor(x_test)\n",
        "\n",
        "# load the best weights from training\n",
        "model.load_weights('best_model')\n",
        "\n",
        "# get model predictions \n",
        "y_pred = model(x_test_tensor)\n",
        "\n",
        "# analytical solution\n",
        "y_analytical = -np.log(x_test**3 + 1)\n",
        "\n",
        "# plot \n",
        "fig = plt.figure(figsize=(16,4))\n",
        "plt.plot(x_test, y_analytical, label='true solution')\n",
        "plt.plot(x_test, y_pred, label='predictions')\n",
        "plt.title('Prediction from model compared with analytical solution')\n",
        "plt.xlabel('x')\n",
        "plt.ylabel('y')\n",
        "plt.legend();"
      ]
    }
  ],
  "metadata": {
    "colab": {
      "name": "dy/dx = -3x^2e^y",
      "provenance": [],
      "authorship_tag": "ABX9TyNLAwnQ1+iqToPKMyCKYCoN",
      "include_colab_link": true
    },
    "kernelspec": {
      "display_name": "Python 3",
      "name": "python3"
    },
    "language_info": {
      "name": "python"
    },
    "accelerator": "GPU",
    "gpuClass": "standard"
  },
  "nbformat": 4,
  "nbformat_minor": 0
}