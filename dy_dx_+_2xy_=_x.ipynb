{
  "cells": [
    {
      "cell_type": "markdown",
      "metadata": {
        "id": "view-in-github",
        "colab_type": "text"
      },
      "source": [
        "<a href=\"https://colab.research.google.com/github/wzummo/Neural-Network-Approximation-of-ODEs/blob/main/dy_dx_%2B_2xy_%3D_x.ipynb\" target=\"_parent\"><img src=\"https://colab.research.google.com/assets/colab-badge.svg\" alt=\"Open In Colab\"/></a>"
      ]
    },
    {
      "cell_type": "markdown",
      "metadata": {
        "id": "kWH6mt2Dpb0B"
      },
      "source": [
        "# $dy/dx + 2xy = x$\n",
        "* Consider the ODE <br>\n",
        "$dy/dx + 2xy = x$ <br> \n",
        "* with analytical solution <br>\n",
        "$y(x)=1/2 + 1/2exp(-x^2)$\n",
        "* and initial condition <br>\n",
        "$y(0)=1$ <br>\n"
      ]
    },
    {
      "cell_type": "code",
      "execution_count": null,
      "metadata": {
        "id": "SVB6m-Vkpb0J"
      },
      "outputs": [],
      "source": [
        "import numpy as np\n",
        "import matplotlib.pyplot as plt\n",
        "import tensorflow as tf"
      ]
    },
    {
      "cell_type": "code",
      "execution_count": null,
      "metadata": {
        "id": "q5PB8L2lpb0J"
      },
      "outputs": [],
      "source": [
        "def MSE(y_pred, y_true=None):\n",
        "    '''mean square error of y_pred - y_true if y_true is given, else mean sqaure error of y_pred'''\n",
        "    if y_true is None:\n",
        "        return tf.reduce_mean(y_pred ** 2)\n",
        "    else:\n",
        "        return tf.reduce_mean((y_pred - y_true) ** 2)"
      ]
    },
    {
      "cell_type": "code",
      "execution_count": null,
      "metadata": {
        "id": "RVCTIIEQpb0K"
      },
      "outputs": [],
      "source": [
        "# take n number of samples\n",
        "n_samples = 10000\n",
        "\n",
        "# sample x from 0 to 2\n",
        "x = np.linspace(0,2,n_samples).reshape(n_samples,1)\n",
        "\n",
        "# initial condition of x is when x=0\n",
        "x0 = np.zeros(n_samples).reshape(n_samples,1)\n",
        "\n",
        "# initial conditoin of y(0)=1\n",
        "y0 = np.ones(n_samples).reshape(n_samples,1)\n",
        "\n",
        "# move these numpy arrays to tensors\n",
        "x_tensor = tf.convert_to_tensor(x, dtype=tf.float32)\n",
        "x0_tensor = tf.convert_to_tensor(x0, dtype=tf.float32)\n",
        "y0_tensor = tf.convert_to_tensor(y0, dtype=tf.float32)\n",
        "\n",
        "\n",
        "train_dataset = tf.data.Dataset.from_tensor_slices((x_tensor, x0_tensor, y0_tensor))\n",
        "\n",
        "batch_size = 10\n",
        "train_dataset_shuffled = train_dataset.shuffle(n_samples).batch(batch_size)"
      ]
    },
    {
      "cell_type": "code",
      "execution_count": null,
      "metadata": {
        "id": "hEmDXndOpb0K"
      },
      "outputs": [],
      "source": [
        "# define loss function \n",
        "def loss_ode(model, x_tensor, x0_tensor, y0_tensor):\n",
        "  x_copy = tf.identity(x_tensor)                       # make copy of x for gradients\n",
        "  with tf.GradientTape() as t:\n",
        "    t.watch(x_copy)                                    # watch x variable for auto diff\n",
        "    y_pred = model(x_copy)                             # make model prediction for y\n",
        "  dy_dx = t.gradient(y_pred,x_copy)                    # take derivative dy/dx\n",
        "  res = dy_dx + 2*x_copy*y_pred - x_copy               # define resisual from the ode \n",
        "  res_loss = sum([MSE(res_i) for res_i in res])        # calculate MSE loss for residual\n",
        "\n",
        "  ic_loss = sum([MSE(model(x0_tensor),y0_tensor)])     # calculate initial condition loss comparing the model\n",
        "                                                       # evaluated at 0 to the expected result of 1\n",
        "\n",
        "  ic_coeff = 7                                         # initial condition coefficient taken from matlab example\n",
        "  \n",
        "  loss_full = res_loss + ic_coeff*ic_loss              # calcuate total loss\n",
        "\n",
        "  return loss_full, res_loss, ic_loss                  # return all the lossses"
      ]
    },
    {
      "cell_type": "code",
      "execution_count": null,
      "metadata": {
        "colab": {
          "base_uri": "https://localhost:8080/"
        },
        "outputId": "a2ec565b-a67d-4237-fcda-8daa5dba49e0",
        "id": "nhHJddiwpb0K"
      },
      "outputs": [
        {
          "output_type": "stream",
          "name": "stdout",
          "text": [
            "epoch: 1, loss: 0.026151565834879875, res_loss: 0.02404765971004963, ic_loss:0.0003005579055752605\n",
            "epoch: 2, loss: 0.00447571836411953, res_loss: 0.004466108046472073, ic_loss:1.372899873786082e-06\n",
            "epoch: 3, loss: 0.013573745265603065, res_loss: 0.01347357127815485, ic_loss:1.4310544429463334e-05\n",
            "epoch: 4, loss: 0.012114493176341057, res_loss: 0.012111775577068329, ic_loss:3.88262293427033e-07\n",
            "epoch: 5, loss: 0.03732403367757797, res_loss: 0.033901263028383255, ic_loss:0.000488967401906848\n",
            "epoch: 6, loss: 0.0066185202449560165, res_loss: 0.006256000604480505, ic_loss:5.178854917176068e-05\n",
            "epoch: 7, loss: 0.0009559235186316073, res_loss: 0.0009358651586808264, ic_loss:2.8654765173996566e-06\n",
            "epoch: 8, loss: 0.002635156735777855, res_loss: 0.0023214148823171854, ic_loss:4.482026270125061e-05\n",
            "epoch: 9, loss: 0.0016596027417108417, res_loss: 0.0015674380119889975, ic_loss:1.316638918069657e-05\n",
            "epoch: 10, loss: 0.00045990204671397805, res_loss: 0.00043947191443294287, ic_loss:2.9185905532358447e-06\n",
            "epoch: 11, loss: 0.00014524626021739095, res_loss: 0.000139573632623069, ic_loss:8.10376150184311e-07\n",
            "epoch: 12, loss: 0.00018440961139276624, res_loss: 0.00015951036766637117, ic_loss:3.5570342333812732e-06\n",
            "epoch: 13, loss: 8.628806244814768e-05, res_loss: 8.20903733256273e-05, ic_loss:5.996698178023507e-07\n",
            "epoch: 14, loss: 0.00010269915219396353, res_loss: 9.872898226603866e-05, ic_loss:5.67166637210903e-07\n",
            "epoch: 15, loss: 1.4409562936634757e-05, res_loss: 1.344122392765712e-05, ic_loss:1.3833414413966238e-07\n"
          ]
        }
      ],
      "source": [
        "# define model -> input x and predict y with one hidden layer\n",
        "\n",
        "# accept 1 input \n",
        "inputs = tf.keras.Input((1,))\n",
        "\n",
        "# two hidden layer with 10 neurons, activation function of sigmoid \n",
        "L1 = tf.keras.layers.Dense(10, activation='sigmoid', use_bias=True)(inputs)\n",
        "\n",
        "# output layer predicts y\n",
        "outputs = tf.keras.layers.Dense(1, use_bias=True)(L1)\n",
        "\n",
        "# build model\n",
        "model = tf.keras.Model(inputs=inputs, outputs=outputs)\n",
        "\n",
        "optimizer = tf.keras.optimizers.Adam(learning_rate=0.01)\n",
        "num_epochs = 15\n",
        "\n",
        "# lists to store loss\n",
        "best_loss = np.inf # initial loss is inf\n",
        "training_loss = []\n",
        "ode_loss = []\n",
        "ic_loss_list = []\n",
        "\n",
        "for epoch in range(num_epochs):\n",
        "\n",
        "  for x_batch, x0_batch, y0_batch in train_dataset_shuffled:\n",
        "    with tf.GradientTape() as t1:\n",
        "      # calculate losses\n",
        "      loss_full, res_loss, ic_loss = loss_ode(model, x_batch, x0_batch, y0_batch) \n",
        "      # store losses \n",
        "      training_loss.append(loss_full.numpy()), ode_loss.append(res_loss.numpy()), ic_loss_list.append(ic_loss.numpy())\n",
        "    # update model parameters based off losses\n",
        "    optimizer.minimize(loss_full, [model.trainable_variables], tape=t1)\n",
        "\n",
        "  # if our loss improves save these weights \n",
        "  if loss_full.numpy() < best_loss:\n",
        "    best_loss = loss_full.numpy()\n",
        "    model.save_weights('best_model')\n",
        "  \n",
        "  # print out epoch and losses\n",
        "  print(f'epoch: {epoch+1}, loss: {loss_full.numpy()}, res_loss: {res_loss.numpy()}, ic_loss:{ic_loss.numpy()}') "
      ]
    },
    {
      "cell_type": "code",
      "source": [
        "fig = plt.figure(figsize=(8,4))\n",
        "plt.plot(training_loss) \n",
        "plt.title('Training Loss');"
      ],
      "metadata": {
        "colab": {
          "base_uri": "https://localhost:8080/",
          "height": 281
        },
        "outputId": "17456678-6aef-4361-c9ab-c09a00ab32a7",
        "id": "7XDGdQUUpb0L"
      },
      "execution_count": null,
      "outputs": [
        {
          "output_type": "display_data",
          "data": {
            "text/plain": [
              "<Figure size 576x288 with 1 Axes>"
            ],
            "image/png": "[encoded data removed]"
          },
          "metadata": {
            "needs_background": "light"
          }
        }
      ]
    },
    {
      "cell_type": "code",
      "execution_count": null,
      "metadata": {
        "colab": {
          "base_uri": "https://localhost:8080/",
          "height": 295
        },
        "outputId": "85f02a15-e459-4d64-9c45-a7518a4438f0",
        "id": "A86TIBUbpb0L"
      },
      "outputs": [
        {
          "output_type": "display_data",
          "data": {
            "text/plain": [
              "<Figure size 1152x288 with 1 Axes>"
            ],
            "image/png": "[encoded data removed]"
          },
          "metadata": {
            "needs_background": "light"
          }
        }
      ],
      "source": [
        "# test the model \n",
        "\n",
        "# Create x test \n",
        "x_test = np.linspace(0,2,100).reshape(100,1)\n",
        "x_test_tensor = tf.convert_to_tensor(x_test)\n",
        "\n",
        "# load the best weights from training\n",
        "model.load_weights('best_model')\n",
        "\n",
        "# get model predictions \n",
        "y_pred = model(x_test_tensor)\n",
        "\n",
        "# analytical solution\n",
        "y_analytical = 0.5 + 0.5*np.exp(-x_test**2)\n",
        "\n",
        "# plot \n",
        "fig = plt.figure(figsize=(16,4))\n",
        "plt.plot(x_test, y_analytical, label='true solution')\n",
        "plt.plot(x_test, y_pred, label='predictions')\n",
        "plt.title('Prediction from model compared with analytical solution')\n",
        "plt.xlabel('x')\n",
        "plt.ylabel('y')\n",
        "plt.legend();"
      ]
    }
  ],
  "metadata": {
    "colab": {
      "name": "dy/dx + 2xy = x",
      "provenance": [],
      "authorship_tag": "ABX9TyOXHz8Y4U3spvNsEoVevzZ7",
      "include_colab_link": true
    },
    "kernelspec": {
      "display_name": "Python 3",
      "name": "python3"
    },
    "language_info": {
      "name": "python"
    },
    "accelerator": "GPU",
    "gpuClass": "standard"
  },
  "nbformat": 4,
  "nbformat_minor": 0
}